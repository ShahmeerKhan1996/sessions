{
 "cells": [
  {
   "cell_type": "code",
   "execution_count": 1,
   "id": "3f6e5b2f-78df-4a3c-ba94-87f1b7be1c3c",
   "metadata": {},
   "outputs": [],
   "source": [
    "import sqlite3 as sql\n",
    "import pandas as pd\n",
    "import matplotlib.pyplot as plt"
   ]
  },
  {
   "cell_type": "code",
   "execution_count": 2,
   "id": "b30261bf-6892-42d8-847e-82769eda2e88",
   "metadata": {},
   "outputs": [
    {
     "data": {
      "text/plain": [
       "<sqlite3.Connection at 0x240b6dfcf40>"
      ]
     },
     "execution_count": 2,
     "metadata": {},
     "output_type": "execute_result"
    }
   ],
   "source": [
    "#connection\n",
    "conn = sql.connect('database1.sqlite')\n",
    "conn"
   ]
  },
  {
   "cell_type": "code",
   "execution_count": 3,
   "id": "54026ac5-8465-4f11-bbcf-6f0ade627071",
   "metadata": {},
   "outputs": [],
   "source": [
    "# conn = sql.connect('data.sqlite')\n",
    "# conn"
   ]
  },
  {
   "cell_type": "code",
   "execution_count": 4,
   "id": "9e614edd-ad9c-4a20-b508-717b35e7f376",
   "metadata": {},
   "outputs": [
    {
     "data": {
      "text/html": [
       "<div>\n",
       "<style scoped>\n",
       "    .dataframe tbody tr th:only-of-type {\n",
       "        vertical-align: middle;\n",
       "    }\n",
       "\n",
       "    .dataframe tbody tr th {\n",
       "        vertical-align: top;\n",
       "    }\n",
       "\n",
       "    .dataframe thead th {\n",
       "        text-align: right;\n",
       "    }\n",
       "</style>\n",
       "<table border=\"1\" class=\"dataframe\">\n",
       "  <thead>\n",
       "    <tr style=\"text-align: right;\">\n",
       "      <th></th>\n",
       "      <th>Id</th>\n",
       "      <th>EmployeeName</th>\n",
       "      <th>JobTitle</th>\n",
       "      <th>BasePay</th>\n",
       "      <th>OvertimePay</th>\n",
       "      <th>OtherPay</th>\n",
       "      <th>Benefits</th>\n",
       "      <th>TotalPay</th>\n",
       "      <th>TotalPayBenefits</th>\n",
       "      <th>Year</th>\n",
       "      <th>Notes</th>\n",
       "      <th>Agency</th>\n",
       "      <th>Status</th>\n",
       "    </tr>\n",
       "  </thead>\n",
       "  <tbody>\n",
       "    <tr>\n",
       "      <th>0</th>\n",
       "      <td>1</td>\n",
       "      <td>NATHANIEL FORD</td>\n",
       "      <td>GENERAL MANAGER-METROPOLITAN TRANSIT AUTHORITY</td>\n",
       "      <td>167411.18</td>\n",
       "      <td>0</td>\n",
       "      <td>400184.25</td>\n",
       "      <td></td>\n",
       "      <td>567595.43</td>\n",
       "      <td>567595.43</td>\n",
       "      <td>2011</td>\n",
       "      <td></td>\n",
       "      <td>San Francisco</td>\n",
       "      <td></td>\n",
       "    </tr>\n",
       "    <tr>\n",
       "      <th>1</th>\n",
       "      <td>2</td>\n",
       "      <td>GARY JIMENEZ</td>\n",
       "      <td>CAPTAIN III (POLICE DEPARTMENT)</td>\n",
       "      <td>155966.02</td>\n",
       "      <td>245131.88</td>\n",
       "      <td>137811.38</td>\n",
       "      <td></td>\n",
       "      <td>538909.28</td>\n",
       "      <td>538909.28</td>\n",
       "      <td>2011</td>\n",
       "      <td></td>\n",
       "      <td>San Francisco</td>\n",
       "      <td></td>\n",
       "    </tr>\n",
       "    <tr>\n",
       "      <th>2</th>\n",
       "      <td>3</td>\n",
       "      <td>ALBERT PARDINI</td>\n",
       "      <td>CAPTAIN III (POLICE DEPARTMENT)</td>\n",
       "      <td>212739.13</td>\n",
       "      <td>106088.18</td>\n",
       "      <td>16452.6</td>\n",
       "      <td></td>\n",
       "      <td>335279.91</td>\n",
       "      <td>335279.91</td>\n",
       "      <td>2011</td>\n",
       "      <td></td>\n",
       "      <td>San Francisco</td>\n",
       "      <td></td>\n",
       "    </tr>\n",
       "    <tr>\n",
       "      <th>3</th>\n",
       "      <td>4</td>\n",
       "      <td>CHRISTOPHER CHONG</td>\n",
       "      <td>WIRE ROPE CABLE MAINTENANCE MECHANIC</td>\n",
       "      <td>77916</td>\n",
       "      <td>56120.71</td>\n",
       "      <td>198306.9</td>\n",
       "      <td></td>\n",
       "      <td>332343.61</td>\n",
       "      <td>332343.61</td>\n",
       "      <td>2011</td>\n",
       "      <td></td>\n",
       "      <td>San Francisco</td>\n",
       "      <td></td>\n",
       "    </tr>\n",
       "    <tr>\n",
       "      <th>4</th>\n",
       "      <td>5</td>\n",
       "      <td>PATRICK GARDNER</td>\n",
       "      <td>DEPUTY CHIEF OF DEPARTMENT,(FIRE DEPARTMENT)</td>\n",
       "      <td>134401.6</td>\n",
       "      <td>9737</td>\n",
       "      <td>182234.59</td>\n",
       "      <td></td>\n",
       "      <td>326373.19</td>\n",
       "      <td>326373.19</td>\n",
       "      <td>2011</td>\n",
       "      <td></td>\n",
       "      <td>San Francisco</td>\n",
       "      <td></td>\n",
       "    </tr>\n",
       "    <tr>\n",
       "      <th>...</th>\n",
       "      <td>...</td>\n",
       "      <td>...</td>\n",
       "      <td>...</td>\n",
       "      <td>...</td>\n",
       "      <td>...</td>\n",
       "      <td>...</td>\n",
       "      <td>...</td>\n",
       "      <td>...</td>\n",
       "      <td>...</td>\n",
       "      <td>...</td>\n",
       "      <td>...</td>\n",
       "      <td>...</td>\n",
       "      <td>...</td>\n",
       "    </tr>\n",
       "    <tr>\n",
       "      <th>148649</th>\n",
       "      <td>148650</td>\n",
       "      <td>Roy I Tillery</td>\n",
       "      <td>Custodian</td>\n",
       "      <td>0</td>\n",
       "      <td>0</td>\n",
       "      <td>0</td>\n",
       "      <td>0</td>\n",
       "      <td>0.00</td>\n",
       "      <td>0.00</td>\n",
       "      <td>2014</td>\n",
       "      <td></td>\n",
       "      <td>San Francisco</td>\n",
       "      <td>PT</td>\n",
       "    </tr>\n",
       "    <tr>\n",
       "      <th>148650</th>\n",
       "      <td>148651</td>\n",
       "      <td>Not provided</td>\n",
       "      <td>Not provided</td>\n",
       "      <td>Not Provided</td>\n",
       "      <td>Not Provided</td>\n",
       "      <td>Not Provided</td>\n",
       "      <td>Not Provided</td>\n",
       "      <td>0.00</td>\n",
       "      <td>0.00</td>\n",
       "      <td>2014</td>\n",
       "      <td></td>\n",
       "      <td>San Francisco</td>\n",
       "      <td></td>\n",
       "    </tr>\n",
       "    <tr>\n",
       "      <th>148651</th>\n",
       "      <td>148652</td>\n",
       "      <td>Not provided</td>\n",
       "      <td>Not provided</td>\n",
       "      <td>Not Provided</td>\n",
       "      <td>Not Provided</td>\n",
       "      <td>Not Provided</td>\n",
       "      <td>Not Provided</td>\n",
       "      <td>0.00</td>\n",
       "      <td>0.00</td>\n",
       "      <td>2014</td>\n",
       "      <td></td>\n",
       "      <td>San Francisco</td>\n",
       "      <td></td>\n",
       "    </tr>\n",
       "    <tr>\n",
       "      <th>148652</th>\n",
       "      <td>148653</td>\n",
       "      <td>Not provided</td>\n",
       "      <td>Not provided</td>\n",
       "      <td>Not Provided</td>\n",
       "      <td>Not Provided</td>\n",
       "      <td>Not Provided</td>\n",
       "      <td>Not Provided</td>\n",
       "      <td>0.00</td>\n",
       "      <td>0.00</td>\n",
       "      <td>2014</td>\n",
       "      <td></td>\n",
       "      <td>San Francisco</td>\n",
       "      <td></td>\n",
       "    </tr>\n",
       "    <tr>\n",
       "      <th>148653</th>\n",
       "      <td>148654</td>\n",
       "      <td>Joe Lopez</td>\n",
       "      <td>Counselor, Log Cabin Ranch</td>\n",
       "      <td>0</td>\n",
       "      <td>0</td>\n",
       "      <td>-618.13</td>\n",
       "      <td>0</td>\n",
       "      <td>-618.13</td>\n",
       "      <td>-618.13</td>\n",
       "      <td>2014</td>\n",
       "      <td></td>\n",
       "      <td>San Francisco</td>\n",
       "      <td>PT</td>\n",
       "    </tr>\n",
       "  </tbody>\n",
       "</table>\n",
       "<p>148654 rows × 13 columns</p>\n",
       "</div>"
      ],
      "text/plain": [
       "            Id       EmployeeName  \\\n",
       "0            1     NATHANIEL FORD   \n",
       "1            2       GARY JIMENEZ   \n",
       "2            3     ALBERT PARDINI   \n",
       "3            4  CHRISTOPHER CHONG   \n",
       "4            5    PATRICK GARDNER   \n",
       "...        ...                ...   \n",
       "148649  148650      Roy I Tillery   \n",
       "148650  148651       Not provided   \n",
       "148651  148652       Not provided   \n",
       "148652  148653       Not provided   \n",
       "148653  148654          Joe Lopez   \n",
       "\n",
       "                                              JobTitle       BasePay  \\\n",
       "0       GENERAL MANAGER-METROPOLITAN TRANSIT AUTHORITY     167411.18   \n",
       "1                      CAPTAIN III (POLICE DEPARTMENT)     155966.02   \n",
       "2                      CAPTAIN III (POLICE DEPARTMENT)     212739.13   \n",
       "3                 WIRE ROPE CABLE MAINTENANCE MECHANIC         77916   \n",
       "4         DEPUTY CHIEF OF DEPARTMENT,(FIRE DEPARTMENT)      134401.6   \n",
       "...                                                ...           ...   \n",
       "148649                                       Custodian             0   \n",
       "148650                                    Not provided  Not Provided   \n",
       "148651                                    Not provided  Not Provided   \n",
       "148652                                    Not provided  Not Provided   \n",
       "148653                      Counselor, Log Cabin Ranch             0   \n",
       "\n",
       "         OvertimePay      OtherPay      Benefits   TotalPay  TotalPayBenefits  \\\n",
       "0                  0     400184.25                567595.43         567595.43   \n",
       "1          245131.88     137811.38                538909.28         538909.28   \n",
       "2          106088.18       16452.6                335279.91         335279.91   \n",
       "3           56120.71      198306.9                332343.61         332343.61   \n",
       "4               9737     182234.59                326373.19         326373.19   \n",
       "...              ...           ...           ...        ...               ...   \n",
       "148649             0             0             0       0.00              0.00   \n",
       "148650  Not Provided  Not Provided  Not Provided       0.00              0.00   \n",
       "148651  Not Provided  Not Provided  Not Provided       0.00              0.00   \n",
       "148652  Not Provided  Not Provided  Not Provided       0.00              0.00   \n",
       "148653             0       -618.13             0    -618.13           -618.13   \n",
       "\n",
       "        Year Notes         Agency Status  \n",
       "0       2011        San Francisco         \n",
       "1       2011        San Francisco         \n",
       "2       2011        San Francisco         \n",
       "3       2011        San Francisco         \n",
       "4       2011        San Francisco         \n",
       "...      ...   ...            ...    ...  \n",
       "148649  2014        San Francisco     PT  \n",
       "148650  2014        San Francisco         \n",
       "148651  2014        San Francisco         \n",
       "148652  2014        San Francisco         \n",
       "148653  2014        San Francisco     PT  \n",
       "\n",
       "[148654 rows x 13 columns]"
      ]
     },
     "execution_count": 4,
     "metadata": {},
     "output_type": "execute_result"
    }
   ],
   "source": [
    "pd.read_sql_query(\"select * from Salaries\", conn)"
   ]
  },
  {
   "cell_type": "code",
   "execution_count": null,
   "id": "bc3837c5-cd5d-4e89-8cec-48c20e280ba2",
   "metadata": {},
   "outputs": [],
   "source": []
  },
  {
   "cell_type": "code",
   "execution_count": null,
   "id": "991b6d07-4965-44f1-8892-6efaf713ceb6",
   "metadata": {},
   "outputs": [],
   "source": []
  },
  {
   "cell_type": "code",
   "execution_count": 5,
   "id": "791e2946-26d2-4249-8fa1-89099f9432d0",
   "metadata": {},
   "outputs": [],
   "source": [
    "def sql_query(q):\n",
    "    return pd.read_sql_query(q,conn)"
   ]
  },
  {
   "cell_type": "code",
   "execution_count": null,
   "id": "0343fc99-5c05-4766-8ed8-e9e5f0d4608f",
   "metadata": {},
   "outputs": [],
   "source": [
    "# sub query cases\n",
    "\n",
    "#Employees with TotalPay greater than the average TotalPay\n",
    "\n",
    "q = '''SELECT EmployeeName, JobTitle, TotalPay\n",
    "FROM salaries\n",
    "WHERE TotalPay > (\n",
    "    SELECT AVG(TotalPay)\n",
    "    FROM salaries)'''\n",
    "\n",
    "sql_query(q)"
   ]
  },
  {
   "cell_type": "code",
   "execution_count": null,
   "id": "b0481977-1bc6-4120-b344-91352fefe2f2",
   "metadata": {},
   "outputs": [],
   "source": [
    "q = '''SELECT EmployeeName, JobTitle, TotalPay\n",
    "FROM salaries\n",
    "WHERE TotalPay > AVG(TotalPay)\n",
    "'''\n",
    "\n",
    "sql_query(q)"
   ]
  },
  {
   "cell_type": "code",
   "execution_count": null,
   "id": "16971a3e-4ae1-4798-a262-eb78e5029a21",
   "metadata": {},
   "outputs": [],
   "source": [
    "# sub query cases\n",
    "\n",
    "#Employees with TotalPay greater than the average TotalPay\n",
    "\n",
    "q = '''select employeename, totalpay from salaries\n",
    "    where totalpay > (select avg(totalpay) from salaries)'''\n",
    "\n",
    "sql_query(q)"
   ]
  },
  {
   "cell_type": "code",
   "execution_count": null,
   "id": "0054f6e4-1e3f-41b4-9ce5-e84185ca31cc",
   "metadata": {},
   "outputs": [],
   "source": [
    "# sub query cases\n",
    "\n",
    "#jobtitle with (baspay + otherpay) less than the average TotalPay\n",
    "\n",
    "q = '''select jobtitle, basepay + otherpay from salaries\n",
    "    where totalpay < (select avg(totalpay) from salaries)'''\n",
    "\n",
    "sql_query(q)"
   ]
  },
  {
   "cell_type": "code",
   "execution_count": null,
   "id": "4f9ff558-c2ef-4860-b379-6ea36fddb042",
   "metadata": {},
   "outputs": [],
   "source": []
  },
  {
   "cell_type": "code",
   "execution_count": null,
   "id": "7ceac1e9-5b81-4c16-9a8d-6bb99a7e99ee",
   "metadata": {},
   "outputs": [],
   "source": []
  },
  {
   "cell_type": "markdown",
   "id": "8a9f47ed-d614-4532-b7c1-baaaa52c1d2a",
   "metadata": {},
   "source": [
    "### in"
   ]
  },
  {
   "cell_type": "code",
   "execution_count": null,
   "id": "851ad2e3-7fd9-4492-8bd0-daf58fb2c7e0",
   "metadata": {},
   "outputs": [],
   "source": [
    "q = '''select employeename, jobtitle from salaries\n",
    "    where jobtitle in ('WATERSHED KEEPER' , 'Counselor, Log Cabin Ranch')'''\n",
    "\n",
    "sql_query(q)"
   ]
  },
  {
   "cell_type": "code",
   "execution_count": null,
   "id": "649bd0c1-2f93-4d0f-ba5b-7736886385c4",
   "metadata": {},
   "outputs": [],
   "source": [
    "q = '''select employeename, jobtitle from salaries\n",
    "    where jobtitle = 'WATERSHED KEEPER'\n",
    "    or\n",
    "    jobtitle = 'Counselor, Log Cabin Ranch'\n",
    "    '''\n",
    "\n",
    "sql_query(q)"
   ]
  },
  {
   "cell_type": "code",
   "execution_count": null,
   "id": "0c94e59a-7015-40d5-8e96-f0eabfb58e11",
   "metadata": {},
   "outputs": [],
   "source": []
  },
  {
   "cell_type": "code",
   "execution_count": null,
   "id": "04c35e4c-39bb-4410-b4f5-6e1fcce7aa09",
   "metadata": {},
   "outputs": [],
   "source": []
  },
  {
   "cell_type": "markdown",
   "id": "d7a92b94-7dcf-4c8e-a2c1-98c488ecfc88",
   "metadata": {},
   "source": [
    "### like/glob"
   ]
  },
  {
   "cell_type": "code",
   "execution_count": null,
   "id": "0e6bdce8-51fc-49be-89b2-2e3fa5337c80",
   "metadata": {},
   "outputs": [],
   "source": [
    "q = '''select jobtitle from salaries where jobtitle like '%captain%'\n",
    "'''\n",
    "\n",
    "sql_query(q)"
   ]
  },
  {
   "cell_type": "code",
   "execution_count": null,
   "id": "14b648f7-507f-480f-94ca-d9980ffaa9d7",
   "metadata": {},
   "outputs": [],
   "source": [
    "q = '''select jobtitle from salaries where jobtitle like '%captain'\n",
    "'''\n",
    "\n",
    "sql_query(q)"
   ]
  },
  {
   "cell_type": "code",
   "execution_count": null,
   "id": "33c64172-9b54-43f3-847f-562a83a8c1d9",
   "metadata": {},
   "outputs": [],
   "source": [
    "q = '''select jobtitle from salaries where jobtitle like 'captain%'\n",
    "'''\n",
    "\n",
    "sql_query(q)"
   ]
  },
  {
   "cell_type": "code",
   "execution_count": null,
   "id": "f83c6c4c-110e-4bbf-9a52-fa5bc4a27ce5",
   "metadata": {},
   "outputs": [],
   "source": [
    "SELECT * FROM users WHERE name LIKE 'J%';  -- Finds all names starting with 'J'\n",
    "SELECT * FROM users WHERE name GLOB 'J*';  -- Finds all names starting with 'J' (case-sensitive)\n"
   ]
  },
  {
   "cell_type": "markdown",
   "id": "03ceecd9-2f75-4bc7-bba5-1dee8345a9ad",
   "metadata": {},
   "source": [
    "### case"
   ]
  },
  {
   "cell_type": "markdown",
   "id": "b976ddce-0948-4d6c-917f-d7ff8134974b",
   "metadata": {},
   "source": [
    "- Categorizing Employees Based on overtimepay\n",
    "- Categorizing Employees Based on BasePay\n",
    "- Categorizing Job Titles Based on Pay"
   ]
  },
  {
   "cell_type": "code",
   "execution_count": null,
   "id": "82f971a9-3ab4-4eb2-a8c9-48fd609bf532",
   "metadata": {},
   "outputs": [],
   "source": [
    "q = '''select employeename, jobtitle, totalpay,\n",
    "    case\n",
    "        when overtimepay > 100000 then 'overtime worker'\n",
    "        else 'regular worker'\n",
    "    end as workcategory\n",
    "from salaries'''\n",
    "\n",
    "sql_query(q)"
   ]
  },
  {
   "cell_type": "code",
   "execution_count": null,
   "id": "d1553410-5ebf-487e-96f6-e7a32d849719",
   "metadata": {},
   "outputs": [],
   "source": [
    "q = '''select employeename, jobtitle, basepay,\n",
    "    case\n",
    "        when basepay > 100000 then 'high paying job'\n",
    "        when basepay between 50000 and 99999 then 'medium paying job'\n",
    "        else 'low paying job'\n",
    "    end as jobcategory\n",
    "from salaries'''\n",
    "\n",
    "sql_query(q)"
   ]
  },
  {
   "cell_type": "code",
   "execution_count": null,
   "id": "5fd2c4a6-03a3-4032-9cee-ba5f600313b0",
   "metadata": {},
   "outputs": [],
   "source": [
    "q = '''insert into salaries (id\n",
    "values "
   ]
  },
  {
   "cell_type": "code",
   "execution_count": null,
   "id": "f6bb6852-86c4-4956-819b-6ad71e837eab",
   "metadata": {},
   "outputs": [],
   "source": [
    "q = '''update salaries\n",
    "    set jobtitle = 'abc' , basepay = 1111\n",
    "    where employeename = 'NATHANIEL FORD'\n",
    "'''\n",
    "\n",
    "conn.execute(q)"
   ]
  },
  {
   "cell_type": "code",
   "execution_count": null,
   "id": "d7007cac-22c2-4b9f-98b7-a1cd8ab15b79",
   "metadata": {},
   "outputs": [],
   "source": [
    "q = '''select * from salaries'''\n",
    "\n",
    "sql_query(q)"
   ]
  },
  {
   "cell_type": "code",
   "execution_count": null,
   "id": "7a9e2af4-6e91-4fa5-b9a3-6d86d6e016a9",
   "metadata": {},
   "outputs": [],
   "source": [
    "q = '''delete from salaries where employeename = 'NATHANIEL FORD'\n",
    "'''\n",
    "\n",
    "conn.execute(q)\n"
   ]
  },
  {
   "cell_type": "code",
   "execution_count": null,
   "id": "c00aefa9-751a-4abe-a68a-7fcd5e51e8f8",
   "metadata": {},
   "outputs": [],
   "source": [
    "q = '''select * from salaries'''\n",
    "\n",
    "sql_query(q)"
   ]
  },
  {
   "cell_type": "code",
   "execution_count": null,
   "id": "c7d28c76-7c6d-4277-921a-022529bd90c7",
   "metadata": {},
   "outputs": [],
   "source": [
    "#functions\n",
    "\n",
    "#string functions\n",
    "#numeric FUNCTIONS\n"
   ]
  },
  {
   "cell_type": "markdown",
   "id": "a0d7a5f5-54cb-4de3-9106-ef797e997307",
   "metadata": {},
   "source": [
    "### UPDATE"
   ]
  },
  {
   "cell_type": "markdown",
   "id": "dd1d6e98-2c08-4442-ad2e-789f4544dbd6",
   "metadata": {},
   "source": [
    "### INSERT"
   ]
  },
  {
   "cell_type": "markdown",
   "id": "ca41ed3f-e183-433a-81b3-0547e57ad65b",
   "metadata": {},
   "source": [
    "### DELETE"
   ]
  },
  {
   "cell_type": "markdown",
   "id": "5b13c546-5513-4dcb-a35b-48cc8f927898",
   "metadata": {},
   "source": [
    "### String Function"
   ]
  },
  {
   "cell_type": "markdown",
   "id": "b3343fa4-cabe-4d7e-bea8-305ce329e2fd",
   "metadata": {},
   "source": [
    "#### upper/lower"
   ]
  },
  {
   "cell_type": "code",
   "execution_count": null,
   "id": "b65281d4-25ac-40e5-8c50-c76a7d9749c2",
   "metadata": {},
   "outputs": [],
   "source": [
    "q='''SELECT lower(EmployeeName) FROM salaries'''\n",
    "\n",
    "sql_query(q)"
   ]
  },
  {
   "cell_type": "code",
   "execution_count": null,
   "id": "ed6881de-2d64-4d67-be81-d1697ae47929",
   "metadata": {},
   "outputs": [],
   "source": [
    "### trim. rtrim, ltrim"
   ]
  },
  {
   "cell_type": "code",
   "execution_count": 10,
   "id": "789d12b2-0c37-45ce-8baf-f4f2eaae92b9",
   "metadata": {},
   "outputs": [
    {
     "data": {
      "text/html": [
       "<div>\n",
       "<style scoped>\n",
       "    .dataframe tbody tr th:only-of-type {\n",
       "        vertical-align: middle;\n",
       "    }\n",
       "\n",
       "    .dataframe tbody tr th {\n",
       "        vertical-align: top;\n",
       "    }\n",
       "\n",
       "    .dataframe thead th {\n",
       "        text-align: right;\n",
       "    }\n",
       "</style>\n",
       "<table border=\"1\" class=\"dataframe\">\n",
       "  <thead>\n",
       "    <tr style=\"text-align: right;\">\n",
       "      <th></th>\n",
       "      <th>lTRIM(Notes)</th>\n",
       "    </tr>\n",
       "  </thead>\n",
       "  <tbody>\n",
       "    <tr>\n",
       "      <th>0</th>\n",
       "      <td></td>\n",
       "    </tr>\n",
       "    <tr>\n",
       "      <th>1</th>\n",
       "      <td></td>\n",
       "    </tr>\n",
       "    <tr>\n",
       "      <th>2</th>\n",
       "      <td></td>\n",
       "    </tr>\n",
       "    <tr>\n",
       "      <th>3</th>\n",
       "      <td></td>\n",
       "    </tr>\n",
       "    <tr>\n",
       "      <th>4</th>\n",
       "      <td></td>\n",
       "    </tr>\n",
       "    <tr>\n",
       "      <th>...</th>\n",
       "      <td>...</td>\n",
       "    </tr>\n",
       "    <tr>\n",
       "      <th>148649</th>\n",
       "      <td></td>\n",
       "    </tr>\n",
       "    <tr>\n",
       "      <th>148650</th>\n",
       "      <td></td>\n",
       "    </tr>\n",
       "    <tr>\n",
       "      <th>148651</th>\n",
       "      <td></td>\n",
       "    </tr>\n",
       "    <tr>\n",
       "      <th>148652</th>\n",
       "      <td></td>\n",
       "    </tr>\n",
       "    <tr>\n",
       "      <th>148653</th>\n",
       "      <td></td>\n",
       "    </tr>\n",
       "  </tbody>\n",
       "</table>\n",
       "<p>148654 rows × 1 columns</p>\n",
       "</div>"
      ],
      "text/plain": [
       "       lTRIM(Notes)\n",
       "0                  \n",
       "1                  \n",
       "2                  \n",
       "3                  \n",
       "4                  \n",
       "...             ...\n",
       "148649             \n",
       "148650             \n",
       "148651             \n",
       "148652             \n",
       "148653             \n",
       "\n",
       "[148654 rows x 1 columns]"
      ]
     },
     "execution_count": 10,
     "metadata": {},
     "output_type": "execute_result"
    }
   ],
   "source": [
    "q='''SELECT lTRIM(Notes) FROM salaries'''\n",
    "\n",
    "sql_query(q)\n"
   ]
  },
  {
   "cell_type": "code",
   "execution_count": 7,
   "id": "5385558b-6ed2-4c2d-a436-1e65f6e9ad4c",
   "metadata": {},
   "outputs": [
    {
     "data": {
      "text/html": [
       "<div>\n",
       "<style scoped>\n",
       "    .dataframe tbody tr th:only-of-type {\n",
       "        vertical-align: middle;\n",
       "    }\n",
       "\n",
       "    .dataframe tbody tr th {\n",
       "        vertical-align: top;\n",
       "    }\n",
       "\n",
       "    .dataframe thead th {\n",
       "        text-align: right;\n",
       "    }\n",
       "</style>\n",
       "<table border=\"1\" class=\"dataframe\">\n",
       "  <thead>\n",
       "    <tr style=\"text-align: right;\">\n",
       "      <th></th>\n",
       "      <th>REPLACE(Jobtitle, 'Not provided', 'N/A')</th>\n",
       "    </tr>\n",
       "  </thead>\n",
       "  <tbody>\n",
       "    <tr>\n",
       "      <th>0</th>\n",
       "      <td>GENERAL MANAGER-METROPOLITAN TRANSIT AUTHORITY</td>\n",
       "    </tr>\n",
       "    <tr>\n",
       "      <th>1</th>\n",
       "      <td>CAPTAIN III (POLICE DEPARTMENT)</td>\n",
       "    </tr>\n",
       "    <tr>\n",
       "      <th>2</th>\n",
       "      <td>CAPTAIN III (POLICE DEPARTMENT)</td>\n",
       "    </tr>\n",
       "    <tr>\n",
       "      <th>3</th>\n",
       "      <td>WIRE ROPE CABLE MAINTENANCE MECHANIC</td>\n",
       "    </tr>\n",
       "    <tr>\n",
       "      <th>4</th>\n",
       "      <td>DEPUTY CHIEF OF DEPARTMENT,(FIRE DEPARTMENT)</td>\n",
       "    </tr>\n",
       "    <tr>\n",
       "      <th>...</th>\n",
       "      <td>...</td>\n",
       "    </tr>\n",
       "    <tr>\n",
       "      <th>148649</th>\n",
       "      <td>Custodian</td>\n",
       "    </tr>\n",
       "    <tr>\n",
       "      <th>148650</th>\n",
       "      <td>N/A</td>\n",
       "    </tr>\n",
       "    <tr>\n",
       "      <th>148651</th>\n",
       "      <td>N/A</td>\n",
       "    </tr>\n",
       "    <tr>\n",
       "      <th>148652</th>\n",
       "      <td>N/A</td>\n",
       "    </tr>\n",
       "    <tr>\n",
       "      <th>148653</th>\n",
       "      <td>Counselor, Log Cabin Ranch</td>\n",
       "    </tr>\n",
       "  </tbody>\n",
       "</table>\n",
       "<p>148654 rows × 1 columns</p>\n",
       "</div>"
      ],
      "text/plain": [
       "              REPLACE(Jobtitle, 'Not provided', 'N/A')\n",
       "0       GENERAL MANAGER-METROPOLITAN TRANSIT AUTHORITY\n",
       "1                      CAPTAIN III (POLICE DEPARTMENT)\n",
       "2                      CAPTAIN III (POLICE DEPARTMENT)\n",
       "3                 WIRE ROPE CABLE MAINTENANCE MECHANIC\n",
       "4         DEPUTY CHIEF OF DEPARTMENT,(FIRE DEPARTMENT)\n",
       "...                                                ...\n",
       "148649                                       Custodian\n",
       "148650                                             N/A\n",
       "148651                                             N/A\n",
       "148652                                             N/A\n",
       "148653                      Counselor, Log Cabin Ranch\n",
       "\n",
       "[148654 rows x 1 columns]"
      ]
     },
     "execution_count": 7,
     "metadata": {},
     "output_type": "execute_result"
    }
   ],
   "source": [
    "q='''SELECT REPLACE(Jobtitle, 'Not provided', 'N/A') FROM salaries'''\n",
    "\n",
    "sql_query(q)"
   ]
  },
  {
   "cell_type": "code",
   "execution_count": null,
   "id": "9c88f676-846f-4af5-93b6-f98e7245e05d",
   "metadata": {},
   "outputs": [],
   "source": [
    "sql_query(q)"
   ]
  },
  {
   "cell_type": "code",
   "execution_count": null,
   "id": "bf15c37e-88bf-4cda-9d8b-a7bbf1624ec1",
   "metadata": {},
   "outputs": [],
   "source": [
    "q='''SELECT LENGTH(EmployeeName) FROM salaries\n",
    "'''\n",
    "sql_query(q)"
   ]
  },
  {
   "cell_type": "markdown",
   "id": "e0f03778-85a9-49d8-a3b8-c4e89cb1780e",
   "metadata": {},
   "source": [
    "### SUBSTR"
   ]
  },
  {
   "cell_type": "markdown",
   "id": "4e1da78e-5a1a-414e-a8eb-d34650169038",
   "metadata": {},
   "source": [
    "### Numeric Function"
   ]
  },
  {
   "cell_type": "markdown",
   "id": "02c51775-977b-48e1-b91e-adbc12662b16",
   "metadata": {},
   "source": [
    "#### Round"
   ]
  },
  {
   "cell_type": "markdown",
   "id": "2d1fe65d-5629-4efb-85ca-4ea52de4bd8f",
   "metadata": {},
   "source": [
    "### ABS"
   ]
  },
  {
   "cell_type": "markdown",
   "id": "6a050b65-f56c-4383-acfc-2fe1f920478e",
   "metadata": {},
   "source": [
    "#### CAST"
   ]
  },
  {
   "cell_type": "markdown",
   "id": "184d8132-6774-419a-b812-dc54dc2fdf20",
   "metadata": {},
   "source": [
    "#### MOD"
   ]
  },
  {
   "cell_type": "code",
   "execution_count": null,
   "id": "b60753b9-11a6-4ae8-98ab-e13aec4e1edc",
   "metadata": {},
   "outputs": [],
   "source": []
  }
 ],
 "metadata": {
  "kernelspec": {
   "display_name": "Python 3 (ipykernel)",
   "language": "python",
   "name": "python3"
  },
  "language_info": {
   "codemirror_mode": {
    "name": "ipython",
    "version": 3
   },
   "file_extension": ".py",
   "mimetype": "text/x-python",
   "name": "python",
   "nbconvert_exporter": "python",
   "pygments_lexer": "ipython3",
   "version": "3.12.7"
  }
 },
 "nbformat": 4,
 "nbformat_minor": 5
}
